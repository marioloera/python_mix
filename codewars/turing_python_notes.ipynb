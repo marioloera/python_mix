{
 "cells": [
  {
   "cell_type": "markdown",
   "metadata": {},
   "source": [
    "# Turing python exam notes"
   ]
  },
  {
   "cell_type": "markdown",
   "metadata": {},
   "source": [
    "##  %s concatenation of strings together using dictionary"
   ]
  },
  {
   "cell_type": "code",
   "execution_count": 1,
   "metadata": {},
   "outputs": [
    {
     "name": "stdout",
     "output_type": "stream",
     "text": [
      "Welcome to Turing\n",
      "Welcome to Turing\n",
      "Bienvenido a Mexico\n"
     ]
    }
   ],
   "source": [
    "\n",
    "t = '%(a)s %(b)s %(c)s'\n",
    "print(t % dict(a='Welcome', b='to', c='Turing'))\n",
    "\n",
    "dict1 = dict(a='Welcome', b='to', c='Turing')\n",
    "dict2 =  dict(a='Bienvenido', b='a', c='Mexico')\n",
    "\n",
    "s1 = (t % dict1)\n",
    "print(s1)\n",
    "\n",
    "s2 = (t % dict2)\n",
    "print(s2)\n"
   ]
  },
  {
   "cell_type": "markdown",
   "metadata": {},
   "source": [
    "# map funtion: map(fun, iter)\n",
    "returns a map object(which is an iterator) of the results after applying the given function to each item of a given iterable"
   ]
  },
  {
   "cell_type": "code",
   "execution_count": 2,
   "metadata": {},
   "outputs": [
    {
     "name": "stdout",
     "output_type": "stream",
     "text": [
      "[2, 4, 6, 8]\n",
      "[1, 20, 300, 4]\n"
     ]
    }
   ],
   "source": [
    "def fun_mul(n):\n",
    "    return n * 2\n",
    "  \n",
    "# We double all numbers using map()\n",
    "numbers = [1, 2, 3, 4]\n",
    "result = map(fun_mul, numbers)\n",
    "print(list(result))\n",
    "\n",
    "# multp n * m  with map\n",
    "def fun_mul(n_m):\n",
    "    n, m = n_m\n",
    "    return n * m\n",
    "\n",
    "n_m = [(1,1), (2,10), (3,100), (4,1)]\n",
    "result = map(fun_mul, n_m)\n",
    "print(list(result))\n",
    "\n"
   ]
  },
  {
   "cell_type": "markdown",
   "metadata": {},
   "source": [
    "## test sample with map"
   ]
  },
  {
   "cell_type": "code",
   "execution_count": 3,
   "metadata": {},
   "outputs": [
    {
     "data": {
      "text/plain": [
       "[None, None, None, None, None, None]"
      ]
     },
     "execution_count": 3,
     "metadata": {},
     "output_type": "execute_result"
    }
   ],
   "source": [
    "def test_assert(test_data):\n",
    "    input, expected = test_data\n",
    "    result = fun_mul(input)\n",
    "    if not result == expected:\n",
    "        print(f\"{input=} {expected=} {result=}\")\n",
    "    assert result == expected\n",
    "\n",
    "test_data_list = [\n",
    "    ([2, 4], 8),\n",
    "    ([1, 1], 1),\n",
    "    ([1, 2], 2),\n",
    "    ([2, 1], 2),\n",
    "    ([2, 2], 4),\n",
    "    ([5, 11], 55),\n",
    "]\n",
    "\n",
    "list(map(test_assert, test_data_list))\n"
   ]
  },
  {
   "cell_type": "code",
   "execution_count": 4,
   "metadata": {},
   "outputs": [
    {
     "name": "stdout",
     "output_type": "stream",
     "text": [
      "testing: <function fun_mul at 0x1139daaf0>\n",
      "testing: <function fun_mul_2 at 0x1139da940>\n"
     ]
    },
    {
     "data": {
      "text/plain": [
       "{None}"
      ]
     },
     "execution_count": 4,
     "metadata": {},
     "output_type": "execute_result"
    }
   ],
   "source": [
    "##  test multiple functions sample with map\n",
    "\n",
    "def fun_mul_2 (n_m):\n",
    "    n, m = n_m\n",
    "    return m * n\n",
    "\n",
    "fun_list = [fun_mul,fun_mul_2,]\n",
    "\n",
    "def test_assert_2(fun):\n",
    "    print(\"testing:\", fun)\n",
    "    for input, expected in test_data_list:\n",
    "        result = fun(input)\n",
    "        if not result == expected:\n",
    "            print(f\"{input=} {expected=} {result=}\")\n",
    "        assert result == expected\n",
    "\n",
    "set(map(test_assert_2, fun_list))\n",
    "\n",
    "\n"
   ]
  },
  {
   "cell_type": "code",
   "execution_count": 5,
   "metadata": {},
   "outputs": [
    {
     "name": "stdout",
     "output_type": "stream",
     "text": [
      "testing: <function fun_mul at 0x1139daaf0>\n",
      "testing: <function fun_mul_2 at 0x1139da940>\n"
     ]
    },
    {
     "data": {
      "text/plain": [
       "{None}"
      ]
     },
     "execution_count": 5,
     "metadata": {},
     "output_type": "execute_result"
    }
   ],
   "source": [
    "##  test multiple functions sample with double map, but  can't find excat issue when error\n",
    "\n",
    "def test_assert_3(fun):\n",
    "    print(\"testing:\", fun)\n",
    "    inputs = [val[0] for val in test_data_list]\n",
    "    expected_values = [val[1] for val in test_data_list]\n",
    "    results = list(map(fun, inputs))\n",
    "    assert expected_values == results\n",
    "\n",
    "set(map(test_assert_3, fun_list))\n"
   ]
  },
  {
   "cell_type": "markdown",
   "metadata": {},
   "source": [
    "## set: add vs update"
   ]
  },
  {
   "cell_type": "code",
   "execution_count": 6,
   "metadata": {},
   "outputs": [
    {
     "name": "stdout",
     "output_type": "stream",
     "text": [
      "{'san', 'a', 'c', 'b'}\n",
      "{'b', 'san', 'a', 'c', 'x'}\n",
      "{'b', 'q', 'san', 'p', 'a', 'c', 'x'}\n",
      "{'z', 'b', 'q', 'w', 'san', 'p', 'a', 'c', 'x'}\n"
     ]
    }
   ],
   "source": [
    "z = set('abc')\n",
    "z.add('san')\n",
    "print(z)\n",
    "z.add('x')\n",
    "print(z)\n",
    "z.update(set(['p', 'q']))\n",
    "print(z)\n",
    "z.update(['w', 'z'])\n",
    "print(z)"
   ]
  },
  {
   "cell_type": "markdown",
   "metadata": {},
   "source": [
    "## union list"
   ]
  },
  {
   "cell_type": "code",
   "execution_count": 7,
   "metadata": {},
   "outputs": [
    {
     "name": "stdout",
     "output_type": "stream",
     "text": [
      "r1=[1, 2, 3, 4, 5, 6]\n",
      "r2=None\n",
      "l1=[1, 2, 3, 4, 5, 6]\n",
      "r3=None\n",
      "l1=[1, 2, 3, [4, 5, 6]]\n"
     ]
    }
   ],
   "source": [
    "l1 = [1, 2 , 3]\n",
    "l2 = [4, 5, 6]\n",
    "\n",
    "r1 = l1 + l2\n",
    "print(f\"{r1=}\")\n",
    "r2 = l1.extend(l2)\n",
    "print(f\"{r2=}\")\n",
    "print(f\"{l1=}\")\n",
    "\n",
    "l1 = [1, 2 , 3]  # rest l1 to orig after extend method\n",
    "r3 = l1.append(l2)\n",
    "print(f\"{r3=}\")\n",
    "print(f\"{l1=}\")\n",
    "# print(extend(l1, l2)) #  error\n"
   ]
  },
  {
   "cell_type": "code",
   "execution_count": 8,
   "metadata": {},
   "outputs": [
    {
     "name": "stdout",
     "output_type": "stream",
     "text": [
      "alphabets='abcd'\n",
      "alphabets='abcd'\n"
     ]
    }
   ],
   "source": [
    "\n",
    "alphabets = \"abcd\"\n",
    "print(f\"{alphabets=}\")\n",
    "for i in range(len(alphabets)):\n",
    "    alphabets[i].upper()\n",
    "print(f\"{alphabets=}\")"
   ]
  },
  {
   "cell_type": "code",
   "execution_count": 9,
   "metadata": {},
   "outputs": [
    {
     "name": "stdout",
     "output_type": "stream",
     "text": [
      "['nodejs', 'reactis', 'vuejs']\n",
      "x=1001\n",
      "1004\n"
     ]
    }
   ],
   "source": [
    "inputs = ['nodejs', 'reactis', 'vuejs']\n",
    "print(inputs)\n",
    "x = 0\n",
    "for i in inputs:\n",
    "    inputs.append(i.upper()) # infinit loop\n",
    "    x += 1\n",
    "    if x > 10 ** 3:\n",
    "        break\n",
    "print(f\"{x=}\")\n",
    "print(len(inputs))"
   ]
  },
  {
   "cell_type": "markdown",
   "metadata": {},
   "source": [
    "## Assignment expressions\n",
    "There is new syntax := that assigns values to variables as part of a larger expression. It is affectionately known as “the walrus operator” due to its resemblance to the eyes and tusks of a walrus.\n",
    "\n",
    "## f-strings support = for self-documenting expressions and debugging\n",
    "Added an = specifier to f-strings. An f-string such as f'{expr=}' will expand to the text of the expression, an equal sign, then the representation of the evaluated expression. For example"
   ]
  },
  {
   "cell_type": "code",
   "execution_count": 10,
   "metadata": {},
   "outputs": [
    {
     "name": "stdout",
     "output_type": "stream",
     "text": [
      "List is too long (11 elements, expected <= 10)\n",
      "n=11 lim=10\n"
     ]
    }
   ],
   "source": [
    "\"\"\"\n",
    "In this example, \n",
    "the assignment expression helps avoid calling len() twice:\n",
    "\"\"\"\n",
    "lim = 10\n",
    "a = \"a\" * (lim + 1)\n",
    "if (n := len(a)) > lim:  # Assignment expressions\n",
    "    print(f\"List is too long ({n} elements, expected <= 10)\")\n",
    "print(f\"{n=} {lim=}\") # self-docummentin expresions"
   ]
  },
  {
   "cell_type": "code",
   "execution_count": 11,
   "metadata": {},
   "outputs": [
    {
     "name": "stdout",
     "output_type": "stream",
     "text": [
      "discount=0.0\n",
      "discount=0.3\n"
     ]
    }
   ],
   "source": [
    "\"\"\"\n",
    "A similar benefit arises during regular expression matching where match objects\n",
    "are needed twice, once to test whether a match occurred\n",
    "and another to extract a subgroup:\n",
    "\"\"\"\n",
    "import re\n",
    "discount = 0.0\n",
    "print(f\"{discount=}\")\n",
    "advertisement = r\"enjou our new 30% discount in our winter deparment\"\n",
    "if (mo := re.search(r'(\\d+)% discount', advertisement)):\n",
    "    discount = float(mo.group(1)) / 100.0\n",
    "    print(f\"{discount=}\")"
   ]
  },
  {
   "cell_type": "code",
   "execution_count": 12,
   "metadata": {},
   "outputs": [
    {
     "name": "stdout",
     "output_type": "stream",
     "text": [
      "['Mario Loera', 'Linus Abc']\n",
      "['Mario Loera', 'Linus Abc']\n"
     ]
    }
   ],
   "source": [
    "from unicodedata import normalize\n",
    "# Return the normal form form for the Unicode string unistr\n",
    "\n",
    "\"\"\"\n",
    "Another motivating use case arises in list comprehensions \n",
    "where a value computed in a filtering condition \n",
    "is also needed in the expression body:\n",
    "\"\"\"\n",
    "names = [\"mario loera\", \"linus abc\", \"samira vic\"]\n",
    "allowed_names = [\"mario loera\", \"linus abc\", \"samir alvic\"]\n",
    "\n",
    "r1 = [clean_name.title() for name in names if (clean_name := normalize('NFC', name)) in allowed_names]\n",
    "print(r1)\n",
    "\n",
    "r2 = []\n",
    "for name in names:\n",
    "    if (clean_name := normalize('NFC', name)) in allowed_names:\n",
    "        r2.append(clean_name.title())\n",
    "print(r2)"
   ]
  },
  {
   "cell_type": "markdown",
   "metadata": {},
   "source": [
    "## Normalize package \n",
    "\n",
    "The normalize package is primarily for writing “plain old data structures” to wrap data from network sources (typically JSON) in python objects, use them in python, and frequently send them back. It is also a useful generic class builder which can be leveraged for interesting and powerful meta-programming.\n",
    "\n"
   ]
  },
  {
   "cell_type": "code",
   "execution_count": 13,
   "metadata": {},
   "outputs": [
    {
     "name": "stdout",
     "output_type": "stream",
     "text": [
      "<Star (17573, 'maia', 'B8III')>\n",
      "validate Exception\n",
      "attribute Star.hip_id is required\n",
      "validate Exception\n",
      "value 120001 failed value check for Star.hip_id\n"
     ]
    }
   ],
   "source": [
    "from normalize import Property, Record\n",
    "\n",
    "class Star(Record):\n",
    "    hip_id = Property(isa=int, required=True, check=lambda x: 0 < x < 120000)\n",
    "    name = Property(isa=str)\n",
    "    spectral_type = Property(isa=str)\n",
    "\n",
    "maia = Star(\n",
    "    hip_id=17573,\n",
    "    name=\"maia\",\n",
    "    spectral_type=\"B8III\"\n",
    ")\n",
    "print(maia)\n",
    "eval(repr(maia)) == maia\n",
    "maia3 = Star({\"hip_id\": 17573, \"name\": \"maia\"})\n",
    "\n",
    "try:\n",
    "    Star()\n",
    "except Exception as ex:\n",
    "    print(\"validate Exception\")\n",
    "    print(ex)\n",
    "\n",
    "try:\n",
    "    Star(hip_id=120001)\n",
    "except Exception as ex:\n",
    "    print(\"validate Exception\")\n",
    "    print(ex)\n"
   ]
  },
  {
   "cell_type": "markdown",
   "metadata": {},
   "source": [
    "## Collections Namedtuple in Python\n",
    "\n",
    " supports a type of container like dictionaries called “namedtuple()” present in the module, “collections“. Like dictionaries, they contain keys that are hashed to a particular value. "
   ]
  },
  {
   "cell_type": "code",
   "execution_count": 14,
   "metadata": {},
   "outputs": [
    {
     "name": "stdout",
     "output_type": "stream",
     "text": [
      "The Student name using index is : Nandini\n",
      "The Student name using keyname is : Nandini\n"
     ]
    }
   ],
   "source": [
    "from collections import namedtuple\n",
    "  \n",
    "# Declaring namedtuple()\n",
    "Student = namedtuple('Student', ['name', 'age', 'DOB'])\n",
    "  \n",
    "# Adding values\n",
    "s = Student('Nandini', '19', '2541997')\n",
    "  \n",
    "# Access using index\n",
    "print(f\"The Student name using index is : {s[0]}\")\n",
    "\n",
    "# Access using name\n",
    "print(f\"The Student name using keyname is : {s.name}\")\n"
   ]
  },
  {
   "cell_type": "markdown",
   "metadata": {},
   "source": [
    "## Schematics Python library: Python Data Structures for Humans\n",
    "\n",
    "library to combine types into structures, validate them, and transform the shapes of your data based on simple descriptions.\n",
    "\n",
    "https://github.com/schematics/schematics#readme\n",
    "\n",
    "https://schematics.readthedocs.io/en/latest/"
   ]
  },
  {
   "cell_type": "code",
   "execution_count": 15,
   "metadata": {},
   "outputs": [
    {
     "name": "stdout",
     "output_type": "stream",
     "text": [
      "<Person instance>\n",
      "person01.name='Joe Strummer'\n",
      "person01.website='http://soundcloud.com/joestrummer'\n",
      "person02.name=None\n",
      "person02.website='http://soundcloud.com/joestrummer'\n",
      "validate Exception\n",
      "{\"name\": [\"This field is required.\"]}\n",
      "{\"name\": \"Joe Strummer\", \"website\": \"http://soundcloud.com/joestrummer\"}\n"
     ]
    }
   ],
   "source": [
    "from schematics.models import Model\n",
    "from schematics.types import StringType, URLType\n",
    "\n",
    "class Person(Model):\n",
    "    name = StringType(required=True)\n",
    "    website = URLType()\n",
    "\n",
    "person01 = Person({\n",
    "    'name': u'Joe Strummer',\n",
    "    'website': 'http://soundcloud.com/joestrummer',\n",
    "    # 'x': 1,  # error        \n",
    "})\n",
    "print(person01)\n",
    "print(f\"{person01.name=}\")\n",
    "print(f\"{person01.website=}\")\n",
    "person01.validate()\n",
    "\n",
    "person02 = Person({'website': 'http://soundcloud.com/joestrummer'})\n",
    "print(f\"{person02.name=}\")\n",
    "print(f\"{person02.website=}\")\n",
    "try:\n",
    "    person02.validate()\n",
    "except Exception as ex:\n",
    "    print(\"validate Exception\")\n",
    "    print(ex)\n",
    "\n",
    "# Serializing the data to JSON.\n",
    "import json\n",
    "person01_json_string = json.dumps(person01.to_primitive())\n",
    "print(person01_json_string)"
   ]
  },
  {
   "cell_type": "code",
   "execution_count": 16,
   "metadata": {},
   "outputs": [
    {
     "name": "stdout",
     "output_type": "stream",
     "text": [
      "Welcome\n"
     ]
    }
   ],
   "source": [
    "i = 'Welcome'\n",
    "\n",
    "def welcome(i):\n",
    "    # i = i + ', Welcome to Turing'return i # error \n",
    "    i = i + ', Welcome to Turing'\n",
    "    return i\n",
    "\n",
    "welcome('Developer')\n",
    "print(i)"
   ]
  },
  {
   "cell_type": "code",
   "execution_count": 17,
   "metadata": {},
   "outputs": [
    {
     "data": {
      "text/plain": [
       "'The bright side of life'"
      ]
     },
     "execution_count": 17,
     "metadata": {},
     "output_type": "execute_result"
    }
   ],
   "source": [
    "# \"The {} side {1} {2}\".format ('bright', 'of', 'life') # error\n",
    "\"The {0} side {1} {2}\".format ('bright', 'of', 'life')"
   ]
  },
  {
   "cell_type": "code",
   "execution_count": 18,
   "metadata": {},
   "outputs": [
    {
     "name": "stdout",
     "output_type": "stream",
     "text": [
      "Welcome to  Turing\n"
     ]
    }
   ],
   "source": [
    "class Welcome:\n",
    "    def __init__ (self, name) :\n",
    "        self.name = name\n",
    "    def say_hello(self):\n",
    "        print('Welcome to ', self.name)\n",
    "\n",
    "cw = Welcome('Turing')\n",
    "cw.say_hello()\n"
   ]
  },
  {
   "cell_type": "markdown",
   "metadata": {},
   "source": [
    "## How can you copy a list?"
   ]
  },
  {
   "cell_type": "code",
   "execution_count": 19,
   "metadata": {},
   "outputs": [
    {
     "name": "stdout",
     "output_type": "stream",
     "text": [
      "d0=['a', 'b', 'c', 'd']\n",
      "d1=['a', 'b', 'c', 'd']\n",
      "d2=['a', 'b', 'c', 'd']\n",
      "change d0\n",
      "d0=['A', 'b', 'c', 'd']\n",
      "d1=['A', 'b', 'c', 'd']\n",
      "d2=['a', 'b', 'c', 'd']\n",
      "new d4\n",
      "d4=['A', 'b', 'c', 'd']\n",
      "change d0\n",
      "d0=['A', 'B', 'c', 'd']\n",
      "d4=['A', 'b', 'c', 'd']\n"
     ]
    }
   ],
   "source": [
    "\"\"\"\n",
    "NOTE:\n",
    "A deep copy constructs a new compound object and then, RECURSIVELY, \n",
    "inserts copies into it of the objects found in the original.\n",
    "\"\"\"\n",
    "\n",
    "d0 = ['a', 'b', 'c', 'd']\n",
    "\n",
    "print(f\"{d0=}\")\n",
    "\n",
    "# d1 = copy(d0) # error\n",
    "d1 = d0\n",
    "print(f\"{d1=}\")\n",
    "\n",
    "d2 = d0.copy()\n",
    "print(f\"{d2=}\")\n",
    "\n",
    "print(\"change d0\")\n",
    "d0[0] = 'A'\n",
    "print(f\"{d0=}\")\n",
    "print(f\"{d1=}\")  # d1 is a pointer\n",
    "print(f\"{d2=}\")\n",
    "\n",
    "# # d3.copy(d0) # error\n",
    "print(\"new d4\")\n",
    "d4 = list(d0)\n",
    "print(f\"{d4=}\")\n",
    "\n",
    "print(\"change d0\")\n",
    "d0[1] = 'B'\n",
    "print(f\"{d0=}\")\n",
    "print(f\"{d4=}\")\n",
    "\n"
   ]
  },
  {
   "cell_type": "markdown",
   "metadata": {},
   "source": [
    "## How can you copy a dict?"
   ]
  },
  {
   "cell_type": "code",
   "execution_count": 20,
   "metadata": {},
   "outputs": [
    {
     "name": "stdout",
     "output_type": "stream",
     "text": [
      "d0={1: 'a', 2: 'b', 3: 'c'}\n",
      "d1={1: 'a', 2: 'b', 3: 'c'}\n",
      "d2={1: 'a', 2: 'b', 3: 'c'}\n",
      "change d0\n",
      "d0={1: 'A', 2: 'b', 3: 'c'}\n",
      "d1={1: 'A', 2: 'b', 3: 'c'}\n",
      "d2={1: 'a', 2: 'b', 3: 'c'}\n",
      "new d4\n",
      "d4={1: 'A', 2: 'b', 3: 'c'}\n",
      "change d0\n",
      "d0={1: 'A', 2: 'B', 3: 'c'}\n",
      "d4={1: 'A', 2: 'b', 3: 'c'}\n"
     ]
    }
   ],
   "source": [
    "\n",
    "# d0 = dict(a=1, b=2, c=\"hi\")\n",
    "d0 = {1:'a', 2:'b', 3:'c'}\n",
    "\n",
    "print(f\"{d0=}\")\n",
    "\n",
    "# d1 = copy(d0) # error\n",
    "d1 = d0\n",
    "print(f\"{d1=}\")\n",
    "\n",
    "\n",
    "d2 = d0.copy()\n",
    "print(f\"{d2=}\")\n",
    "\n",
    "print(\"change d0\")\n",
    "d0[1] = 'A'\n",
    "print(f\"{d0=}\")\n",
    "print(f\"{d1=}\")  # d1 is a pointer\n",
    "print(f\"{d2=}\")\n",
    "\n",
    "# # d3.copy(d0) # error\n",
    "print(\"new d4\")\n",
    "d4 = dict(d0)\n",
    "print(f\"{d4=}\")\n",
    "\n",
    "print(\"change d0\")\n",
    "d0[2] = 'B'\n",
    "print(f\"{d0=}\")\n",
    "print(f\"{d4=}\")\n"
   ]
  },
  {
   "cell_type": "markdown",
   "metadata": {},
   "source": []
  }
 ],
 "metadata": {
  "kernelspec": {
   "display_name": "Python 3.9.6 ('venv': venv)",
   "language": "python",
   "name": "python3"
  },
  "language_info": {
   "codemirror_mode": {
    "name": "ipython",
    "version": 3
   },
   "file_extension": ".py",
   "mimetype": "text/x-python",
   "name": "python",
   "nbconvert_exporter": "python",
   "pygments_lexer": "ipython3",
   "version": "3.9.6"
  },
  "orig_nbformat": 4,
  "vscode": {
   "interpreter": {
    "hash": "b7266b80db3573168ad6a5a14d29f84c8ed81b099bf3bef97d2d592423ff426d"
   }
  }
 },
 "nbformat": 4,
 "nbformat_minor": 2
}
